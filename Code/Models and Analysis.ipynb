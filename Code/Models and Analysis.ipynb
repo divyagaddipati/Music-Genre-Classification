{
 "cells": [
  {
   "cell_type": "code",
   "execution_count": 1,
   "metadata": {
    "id": "vpGAgsw2Kw-C"
   },
   "outputs": [],
   "source": [
    "import os \n",
    "import time\n",
    "\n",
    "import numpy as np\n",
    "import pandas as pd\n",
    "import seaborn as sns; sns.set()\n",
    "from matplotlib import pyplot as plt\n",
    "import matplotlib.patches as mpatches\n",
    "from pandas.plotting import scatter_matrix\n",
    "\n",
    "import sklearn\n",
    "from sklearn.model_selection import KFold, cross_validate, cross_val_score, cross_val_predict\n",
    "from sklearn.preprocessing import StandardScaler\n",
    "from sklearn.model_selection import train_test_split, StratifiedKFold # Split data\n",
    "from sklearn.metrics import accuracy_score # Compute accuracy\n",
    "from sklearn.metrics import f1_score\n",
    "from sklearn.preprocessing import Normalizer, MinMaxScaler\n",
    "\n",
    "from sklearn.model_selection import GridSearchCV\n",
    "from sklearn.pipeline import Pipeline\n",
    "from sklearn.metrics import classification_report\n",
    "\n",
    "from sklearn.decomposition import PCA \n",
    "\n",
    "# Classifiers\n",
    "from sklearn.neighbors import KNeighborsClassifier\n",
    "from sklearn.naive_bayes import GaussianNB\n",
    "from sklearn.ensemble import RandomForestClassifier, VotingClassifier\n",
    "from sklearn.svm import SVC\n",
    "from sklearn.linear_model import SGDClassifier\n",
    "from sklearn.neural_network import MLPClassifier\n",
    "from sklearn.tree import DecisionTreeClassifier\n",
    "\n",
    "# Metrics\n",
    "from sklearn.metrics import classification_report, confusion_matrix, accuracy_score\n",
    "\n",
    "import pickle\n",
    "import random\n",
    "from tqdm import tqdm # Progress Bar\n",
    "\n",
    "from sklearn.preprocessing import LabelEncoder\n",
    "\n",
    "# Options\n",
    "pd.set_option(\"display.precision\", 2)\n",
    "pd.set_option('display.max_columns', None)\n",
    "\n",
    "import warnings\n",
    "warnings.filterwarnings('ignore')\n",
    "%matplotlib inline"
   ]
  },
  {
   "cell_type": "markdown",
   "metadata": {
    "id": "MSceNot2INit"
   },
   "source": [
    "### Loading Data, Normalizing Data, and PCA"
   ]
  },
  {
   "cell_type": "code",
   "execution_count": 2,
   "metadata": {
    "id": "kBXeOlI4K46q"
   },
   "outputs": [],
   "source": [
    "all_preprocessed_data = pd.read_csv(\"../Data/final_preprocessed_data.csv\")"
   ]
  },
  {
   "cell_type": "code",
   "execution_count": 3,
   "metadata": {
    "id": "43Dk1II8LI8_"
   },
   "outputs": [],
   "source": [
    "# Split into features and label\n",
    "labels = all_preprocessed_data['genre_id']\n",
    "features_numeric = all_preprocessed_data.drop(columns=[\"track_id\", \"genre_id\"])"
   ]
  },
  {
   "cell_type": "code",
   "execution_count": 4,
   "metadata": {
    "id": "WR9nrVqDLLul"
   },
   "outputs": [],
   "source": [
    "# Normalize features\n",
    "colNames = features_numeric.columns\n",
    "norm = MinMaxScaler(copy=False)\n",
    "\n",
    "features_numeric[colNames] = norm.fit_transform(features_numeric[colNames]) "
   ]
  },
  {
   "cell_type": "code",
   "execution_count": 5,
   "metadata": {},
   "outputs": [
    {
     "data": {
      "text/plain": [
       "(91901, 200)"
      ]
     },
     "execution_count": 5,
     "metadata": {},
     "output_type": "execute_result"
    }
   ],
   "source": [
    "#PCA for dimensionality reduction\n",
    "from sklearn.decomposition import PCA\n",
    "pca = PCA(n_components = 200)\n",
    "pca.fit(features_numeric)\n",
    "features_numeric_reduced = pca.transform(features_numeric)\n",
    "features_numeric_reduced.shape"
   ]
  },
  {
   "cell_type": "markdown",
   "metadata": {
    "id": "MSceNot2INit"
   },
   "source": [
    "### Training Models w/ Hyperparameters Tuned\n",
    "\n",
    "After performing a grid search on each of the potential models, we identified better hyperparameters than previous experiments.\n",
    "\n",
    "Decision Tree: Best parameters: {'criterion': 'gini', 'max_depth': 17, 'max_features': 'sqrt'}, 0.38866220553832764\n",
    "Random Forest: Fitting 5 folds for each of 11 candidates, totalling 55 fits, Best parameters: {'max_depth': 14}, 0.5328158720371412\n",
    "\n",
    "KNN: Best parameters n = 3 neighbors\n",
    "\n",
    "MLP Fitting 5 folds for each of 4 candidates, totalling 20 fits Best parameters: {'mlp__activation': 'relu', 'mlp__hidden_layer_sizes': (100, 200, 300), 'mlp__learning_rate': 'adaptive'}, 0.4276115342763873, 0.44493208320487476"
   ]
  },
  {
   "cell_type": "code",
   "execution_count": 6,
   "metadata": {
    "id": "atvsbX6gI2CK"
   },
   "outputs": [],
   "source": [
    "def train_models_CV(X, y, metric):\n",
    "\n",
    "    kf = StratifiedKFold(5, random_state=42, shuffle=True)\n",
    "\n",
    "    # KNN\n",
    "    knn_clf = KNeighborsClassifier(n_neighbors=3)\n",
    "    start_time = time.time()\n",
    "    scores_knn = cross_val_score(knn_clf, X, y, scoring=metric, cv=kf)  \n",
    "    print(\"--- KNN: %s seconds ---\" % (time.time() - start_time))\n",
    "    print(\"KNN score: \" + str(np.mean(scores_knn)))\n",
    "    print(\"-----------------------------------\\n\")\n",
    "    \n",
    "    # Random forest\n",
    "    rf_clf = RandomForestClassifier(max_depth=14, random_state=42)\n",
    "    start_time = time.time()\n",
    "    scores_rf = cross_val_score(rf_clf, X, y, scoring=metric, cv=kf)\n",
    "    print(\"--- RF: %s seconds ---\" % (time.time() - start_time))\n",
    "    print(\"RF score: \" + str(np.mean(scores_rf)))\n",
    "    print(\"-----------------------------------\\n\")\n",
    "    \n",
    "    # MLP\n",
    "    mlp_clf = MLPClassifier(hidden_layer_sizes=(100, 200, 300), activation='relu', learning_rate='adaptive')\n",
    "    start_time = time.time()\n",
    "    scores_mlp = cross_val_score(mlp_clf, X, y, scoring=metric, cv=kf)\n",
    "    print(\"--- MLP: %s seconds ---\" % (time.time() - start_time))\n",
    "    print(\"MLP score: \" + str(np.mean(scores_mlp)))\n",
    "    print(\"-----------------------------------\\n\")\n",
    "    \n",
    "    # Ensemble Classifier (Majority voting) without NB\n",
    "    ensemble = VotingClassifier(estimators=[\n",
    "                                          ('knn', knn_clf), \n",
    "                                          ('rf', rf_clf),\n",
    "                                          # ('svmRbf', svmRbf_clf), \n",
    "                                          # ('svmPoly', sgd_clf), \n",
    "                                          ('mlp', mlp_clf)],\n",
    "                              voting='soft', \n",
    "                              weights=[1,1,1])\n",
    "    start_time = time.time()\n",
    "    scores_eclf = cross_val_score(ensemble, X, y, scoring=metric, cv=kf)\n",
    "    print(\"--- Ensemble: %s seconds ---\" % (time.time() - start_time))\n",
    "    print(\"Ensemble score: \" + str(np.mean(scores_eclf)))\n",
    "    print(\"-----------------------------------\\n\")\n",
    "\n",
    "    scores = { \n",
    "        'KNN'     : scores_knn, \n",
    "        # 'Naive Bayes'      : scores_nb,\n",
    "        'Random Forest'      : scores_rf,\n",
    "        # 'SVM (RBF)'     : scores_svm,\n",
    "        # 'SGD'     : scores_sgd,\n",
    "        'MLP'     : scores_mlp, \n",
    "        'Ensemble (without NB)'    : scores_eclf\n",
    "        \n",
    "    }\n",
    "    \n",
    "    return scores "
   ]
  },
  {
   "cell_type": "code",
   "execution_count": 7,
   "metadata": {},
   "outputs": [
    {
     "name": "stdout",
     "output_type": "stream",
     "text": [
      "--- KNN: 16451.738191604614 seconds ---\n",
      "KNN score: 0.6748893204111095\n",
      "-----------------------------------\n",
      "\n",
      "--- RF: 656.7210066318512 seconds ---\n",
      "RF score: 0.48513077355093986\n",
      "-----------------------------------\n",
      "\n",
      "--- MLP: 4299.691114902496 seconds ---\n",
      "MLP score: 0.6215710343136532\n",
      "-----------------------------------\n",
      "\n",
      "--- Ensemble: 8579.277710914612 seconds ---\n",
      "Ensemble score: 0.6960534293495928\n",
      "-----------------------------------\n",
      "\n"
     ]
    }
   ],
   "source": [
    "scores = train_models_CV(features_numeric_reduced, labels, 'accuracy')"
   ]
  },
  {
   "cell_type": "markdown",
   "metadata": {},
   "source": [
    "# Misc Work"
   ]
  },
  {
   "cell_type": "markdown",
   "metadata": {
    "id": "MSceNot2INit"
   },
   "source": [
    "### Training Models w/ Varying Amount of Data Used for Training"
   ]
  },
  {
   "cell_type": "code",
   "execution_count": null,
   "metadata": {
    "id": "ITe3KrNNJsCA"
   },
   "outputs": [],
   "source": [
    "def learning_curve(X, y):\n",
    "  models = {\n",
    "        'KNN'     : [], \n",
    "        # 'Naive Bayes'      : [],\n",
    "        'Random Forest'      : [],\n",
    "        # 'SVM (RBF)'     : [],\n",
    "        # 'SGD'     : [],\n",
    "        'MLP'     : [], \n",
    "        'Ensemble (without NB)'    : []\n",
    "  }\n",
    "  for size in np.arange(0.10, 0.80, 0.10):\n",
    "    X_train, _, y_train, _ = train_test_split(X, y, test_size=(1-size), random_state=1, stratify=labels)\n",
    "    print(X_train.shape, y_train.shape)\n",
    "    scores = train_models_CV(X_train, y_train, 'accuracy')\n",
    "    for model, mean_scores in models.items():\n",
    "      score = scores[model]\n",
    "      models[model].append(np.mean(score))\n",
    "  return models"
   ]
  },
  {
   "cell_type": "code",
   "execution_count": null,
   "metadata": {
    "colab": {
     "background_save": true,
     "base_uri": "https://localhost:8080/"
    },
    "id": "WkUHfeiLMok3",
    "outputId": "405bffaa-db6b-41ba-c38b-fb93eb63e7af"
   },
   "outputs": [],
   "source": [
    "models_X = learning_curve(features_numeric_reduced, labels)"
   ]
  },
  {
   "cell_type": "markdown",
   "metadata": {
    "id": "MSceNot2INit"
   },
   "source": [
    "### Checking the Accuracy of the Models vs Proportion of Data used for Training"
   ]
  },
  {
   "cell_type": "code",
   "execution_count": null,
   "metadata": {
    "colab": {
     "base_uri": "https://localhost:8080/",
     "height": 318
    },
    "id": "erZDtUIfRgYN",
    "outputId": "4a00e269-87eb-46ba-9c09-2beba86c58d2"
   },
   "outputs": [
    {
     "data": {
      "text/plain": [
       "Text(0.5, 1.0, 'Accuracy VS. Proportion of data used for Training')"
      ]
     },
     "execution_count": 6,
     "metadata": {},
     "output_type": "execute_result"
    },
    {
     "data": {
      "image/png": "[encoded data removed]",
      "text/plain": [
       "<Figure size 432x288 with 1 Axes>"
      ]
     },
     "metadata": {
      "needs_background": "light"
     },
     "output_type": "display_data"
    }
   ],
   "source": [
    "proportion_data_y = [i for i in np.arange(0.10, 0.80, 0.10)]\n",
    "\n",
    "## Results of training models... One at a time\n",
    "models_X = {\n",
    "    \"KNN\" : [0.395, .461, 0.507, 0.542, 0.576, 0.604, 0.626],\n",
    "    \"Random Forest\" : [0.439, 0.474, 0.493, 0.515, 0.529, 0.545, 0.562],\n",
    "    \"MLP\" : [0.419, 0.481, 0.548, 0.569, 0.636, 0.678, 0.695],\n",
    "    \"Ensemble (Highest Vote)\" : [0.476, 0.549, 0.602, 0.646, 0.697, 0.74, 0.79],\n",
    "}\n",
    "\n",
    "for model, score in models_X.items():\n",
    "  plt.plot(models_X[model], proportion_data_y, label=model)\n",
    "  plt.legend()\n",
    "\n",
    "plt.ylabel(\"Proportion of Data Used For Training\")\n",
    "plt.xlabel(\"Accuracy\")\n",
    "plt.title(\"Accuracy VS. Proportion of data used for Training\")"
   ]
  },
  {
   "cell_type": "markdown",
   "metadata": {
    "id": "twHEsdKzLUCg"
   },
   "source": [
    "### Work Done To Find Best Hypeparameters"
   ]
  },
  {
   "cell_type": "code",
   "execution_count": null,
   "metadata": {
    "id": "0g68KeGRT9Oa"
   },
   "outputs": [],
   "source": [
    "X_train, X_test, y_train, y_test = train_test_split(features_numeric_reduced, labels, test_size=0.60, random_state=1, stratify=labels)"
   ]
  },
  {
   "cell_type": "code",
   "execution_count": null,
   "metadata": {
    "colab": {
     "base_uri": "https://localhost:8080/"
    },
    "id": "9584UqLxTfa-",
    "outputId": "30ece97a-16b0-4e24-a723-c66c8884f32b"
   },
   "outputs": [
    {
     "name": "stdout",
     "output_type": "stream",
     "text": [
      "Fitting 5 folds for each of 76 candidates, totalling 380 fits\n",
      "Best parameters: {'criterion': 'gini', 'max_depth': 17, 'max_features': 'sqrt'}\n"
     ]
    },
    {
     "data": {
      "text/plain": [
       "0.38866220553832764"
      ]
     },
     "execution_count": 13,
     "metadata": {},
     "output_type": "execute_result"
    }
   ],
   "source": [
    "tree = DecisionTreeClassifier(random_state=42)\n",
    "\n",
    "tree_params = {'max_depth': range(1, 20),\n",
    "               'max_features': ['sqrt', 'log2'],\n",
    "               'criterion': ['gini', 'entropy']\n",
    "               }\n",
    "\n",
    "tree_grid = GridSearchCV(tree, tree_params, cv=5, n_jobs=-1, verbose=True)\n",
    "\n",
    "tree_grid.fit(X_train, y_train)\n",
    "\n",
    "\n",
    "print(f\"Best parameters: {tree_grid.best_params_}\") \n",
    "\n",
    "tree_grid.best_score_\n",
    "\n",
    "accuracy_score(y_test, tree_grid.predict(X_test)) "
   ]
  },
  {
   "cell_type": "code",
   "execution_count": null,
   "metadata": {
    "colab": {
     "base_uri": "https://localhost:8080/"
    },
    "id": "4HbyRU1YiKP3",
    "outputId": "accd6155-7620-4a62-c259-c696083de64b"
   },
   "outputs": [
    {
     "name": "stdout",
     "output_type": "stream",
     "text": [
      "Results on the test set:\n",
      "              precision    recall  f1-score   support\n",
      "\n",
      "         1.0       0.42      0.45      0.43      3045\n",
      "        10.0       0.30      0.31      0.30      2728\n",
      "        12.0       0.26      0.24      0.25      1481\n",
      "        17.0       0.47      0.51      0.49      2506\n",
      "        21.0       0.43      0.38      0.40      1269\n",
      "        25.0       0.48      0.50      0.49      1797\n",
      "        32.0       0.38      0.35      0.36      2685\n",
      "        38.0       0.37      0.35      0.36      2870\n",
      "\n",
      "    accuracy                           0.39     18381\n",
      "   macro avg       0.39      0.38      0.39     18381\n",
      "weighted avg       0.39      0.39      0.39     18381\n",
      "\n"
     ]
    }
   ],
   "source": [
    "print('Results on the test set:')\n",
    "print(classification_report(y_test, tree_grid.predict(X_test)))"
   ]
  },
  {
   "cell_type": "code",
   "execution_count": null,
   "metadata": {
    "colab": {
     "base_uri": "https://localhost:8080/"
    },
    "id": "rpC8Z4DhVRXW",
    "outputId": "29e43be5-5acd-418d-8ac1-830d8b879fa2"
   },
   "outputs": [
    {
     "name": "stdout",
     "output_type": "stream",
     "text": [
      "Fitting 5 folds for each of 29 candidates, totalling 145 fits\n",
      "Best parameters: {'knn__n_neighbors': 1}\n",
      "Score: 0.5612622415669206\n"
     ]
    },
    {
     "data": {
      "text/plain": [
       "0.6003336899947408"
      ]
     },
     "execution_count": 12,
     "metadata": {},
     "output_type": "execute_result"
    }
   ],
   "source": [
    "knn_pipe = Pipeline([('scaler', StandardScaler()), ('knn', KNeighborsClassifier(n_jobs=-1))])\n",
    "\n",
    "knn_params = {'knn__n_neighbors': range(3, 30, 2)}\n",
    "\n",
    "knn_grid = GridSearchCV(knn_pipe, knn_params, cv=5, n_jobs=-1, verbose=True)\n",
    "\n",
    "knn_grid.fit(X_train, y_train)\n",
    "\n",
    "print(f\"Best parameters: {knn_grid.best_params_}\") \n",
    "print(\"Score: \" + str(knn_grid.best_score_))\n",
    "\n",
    "accuracy_score(y_test, knn_grid.predict(X_test)) "
   ]
  },
  {
   "cell_type": "code",
   "execution_count": null,
   "metadata": {
    "colab": {
     "base_uri": "https://localhost:8080/"
    },
    "id": "yqeMYjEOiJgz",
    "outputId": "71c1c104-4ab7-49d0-ac6c-1924160da572"
   },
   "outputs": [
    {
     "name": "stdout",
     "output_type": "stream",
     "text": [
      "Results on the test set:\n",
      "              precision    recall  f1-score   support\n",
      "\n",
      "         1.0       0.62      0.58      0.60      9135\n",
      "        10.0       0.55      0.53      0.54      8184\n",
      "        12.0       0.54      0.61      0.57      4442\n",
      "        17.0       0.65      0.74      0.70      7517\n",
      "        21.0       0.58      0.69      0.63      3806\n",
      "        25.0       0.65      0.80      0.72      5392\n",
      "        32.0       0.62      0.46      0.53      8054\n",
      "        38.0       0.56      0.52      0.54      8611\n",
      "\n",
      "    accuracy                           0.60     55141\n",
      "   macro avg       0.60      0.62      0.60     55141\n",
      "weighted avg       0.60      0.60      0.60     55141\n",
      "\n"
     ]
    }
   ],
   "source": [
    "print('Results on the test set:')\n",
    "print(classification_report(y_test, knn_grid.predict(X_test)))"
   ]
  },
  {
   "cell_type": "code",
   "execution_count": null,
   "metadata": {
    "colab": {
     "base_uri": "https://localhost:8080/"
    },
    "id": "wAiUNMJy7J4t",
    "outputId": "0eb14a60-3fc2-4ffc-893e-f3cc0c67095d"
   },
   "outputs": [
    {
     "data": {
      "text/plain": [
       "GridSearchCV(cv=5,\n",
       "             estimator=Pipeline(steps=[('scaler', StandardScaler()),\n",
       "                                       ('knn',\n",
       "                                        KNeighborsClassifier(n_jobs=-1))]),\n",
       "             n_jobs=-1, param_grid={'knn__n_neighbors': range(1, 30)},\n",
       "             verbose=True)"
      ]
     },
     "execution_count": 14,
     "metadata": {},
     "output_type": "execute_result"
    }
   ],
   "source": [
    "knn_grid"
   ]
  },
  {
   "cell_type": "code",
   "execution_count": null,
   "metadata": {
    "colab": {
     "base_uri": "https://localhost:8080/",
     "height": 1000
    },
    "id": "2TA0bNl68QHT",
    "outputId": "f73bbe9a-a2fd-4bc1-cee4-10477d2f81f5"
   },
   "outputs": [
    {
     "data": {
      "text/html": [
       "<div>\n",
       "<style scoped>\n",
       "    .dataframe tbody tr th:only-of-type {\n",
       "        vertical-align: middle;\n",
       "    }\n",
       "\n",
       "    .dataframe tbody tr th {\n",
       "        vertical-align: top;\n",
       "    }\n",
       "\n",
       "    .dataframe thead th {\n",
       "        text-align: right;\n",
       "    }\n",
       "</style>\n",
       "<table border=\"1\" class=\"dataframe\">\n",
       "  <thead>\n",
       "    <tr style=\"text-align: right;\">\n",
       "      <th></th>\n",
       "      <th>mean_fit_time</th>\n",
       "      <th>std_fit_time</th>\n",
       "      <th>mean_score_time</th>\n",
       "      <th>std_score_time</th>\n",
       "      <th>param_knn__n_neighbors</th>\n",
       "      <th>params</th>\n",
       "      <th>split0_test_score</th>\n",
       "      <th>split1_test_score</th>\n",
       "      <th>split2_test_score</th>\n",
       "      <th>split3_test_score</th>\n",
       "      <th>split4_test_score</th>\n",
       "      <th>mean_test_score</th>\n",
       "      <th>std_test_score</th>\n",
       "      <th>rank_test_score</th>\n",
       "    </tr>\n",
       "  </thead>\n",
       "  <tbody>\n",
       "    <tr>\n",
       "      <th>0</th>\n",
       "      <td>0.52</td>\n",
       "      <td>0.10</td>\n",
       "      <td>25.72</td>\n",
       "      <td>1.89</td>\n",
       "      <td>1</td>\n",
       "      <td>{'knn__n_neighbors': 1}</td>\n",
       "      <td>0.57</td>\n",
       "      <td>0.56</td>\n",
       "      <td>0.57</td>\n",
       "      <td>0.55</td>\n",
       "      <td>0.55</td>\n",
       "      <td>0.56</td>\n",
       "      <td>7.73e-03</td>\n",
       "      <td>1</td>\n",
       "    </tr>\n",
       "    <tr>\n",
       "      <th>1</th>\n",
       "      <td>0.67</td>\n",
       "      <td>0.06</td>\n",
       "      <td>25.01</td>\n",
       "      <td>1.15</td>\n",
       "      <td>2</td>\n",
       "      <td>{'knn__n_neighbors': 2}</td>\n",
       "      <td>0.48</td>\n",
       "      <td>0.47</td>\n",
       "      <td>0.49</td>\n",
       "      <td>0.46</td>\n",
       "      <td>0.47</td>\n",
       "      <td>0.48</td>\n",
       "      <td>7.50e-03</td>\n",
       "      <td>5</td>\n",
       "    </tr>\n",
       "    <tr>\n",
       "      <th>2</th>\n",
       "      <td>0.53</td>\n",
       "      <td>0.10</td>\n",
       "      <td>25.12</td>\n",
       "      <td>0.80</td>\n",
       "      <td>3</td>\n",
       "      <td>{'knn__n_neighbors': 3}</td>\n",
       "      <td>0.49</td>\n",
       "      <td>0.49</td>\n",
       "      <td>0.49</td>\n",
       "      <td>0.47</td>\n",
       "      <td>0.48</td>\n",
       "      <td>0.48</td>\n",
       "      <td>5.56e-03</td>\n",
       "      <td>2</td>\n",
       "    </tr>\n",
       "    <tr>\n",
       "      <th>3</th>\n",
       "      <td>0.40</td>\n",
       "      <td>0.01</td>\n",
       "      <td>26.85</td>\n",
       "      <td>0.58</td>\n",
       "      <td>4</td>\n",
       "      <td>{'knn__n_neighbors': 4}</td>\n",
       "      <td>0.48</td>\n",
       "      <td>0.48</td>\n",
       "      <td>0.49</td>\n",
       "      <td>0.48</td>\n",
       "      <td>0.47</td>\n",
       "      <td>0.48</td>\n",
       "      <td>6.64e-03</td>\n",
       "      <td>3</td>\n",
       "    </tr>\n",
       "    <tr>\n",
       "      <th>4</th>\n",
       "      <td>0.43</td>\n",
       "      <td>0.06</td>\n",
       "      <td>26.76</td>\n",
       "      <td>0.30</td>\n",
       "      <td>5</td>\n",
       "      <td>{'knn__n_neighbors': 5}</td>\n",
       "      <td>0.47</td>\n",
       "      <td>0.48</td>\n",
       "      <td>0.48</td>\n",
       "      <td>0.47</td>\n",
       "      <td>0.47</td>\n",
       "      <td>0.48</td>\n",
       "      <td>6.28e-03</td>\n",
       "      <td>4</td>\n",
       "    </tr>\n",
       "    <tr>\n",
       "      <th>5</th>\n",
       "      <td>0.56</td>\n",
       "      <td>0.15</td>\n",
       "      <td>26.59</td>\n",
       "      <td>0.87</td>\n",
       "      <td>6</td>\n",
       "      <td>{'knn__n_neighbors': 6}</td>\n",
       "      <td>0.47</td>\n",
       "      <td>0.47</td>\n",
       "      <td>0.47</td>\n",
       "      <td>0.46</td>\n",
       "      <td>0.47</td>\n",
       "      <td>0.47</td>\n",
       "      <td>3.93e-03</td>\n",
       "      <td>6</td>\n",
       "    </tr>\n",
       "    <tr>\n",
       "      <th>6</th>\n",
       "      <td>0.58</td>\n",
       "      <td>0.17</td>\n",
       "      <td>24.46</td>\n",
       "      <td>1.88</td>\n",
       "      <td>7</td>\n",
       "      <td>{'knn__n_neighbors': 7}</td>\n",
       "      <td>0.46</td>\n",
       "      <td>0.47</td>\n",
       "      <td>0.47</td>\n",
       "      <td>0.46</td>\n",
       "      <td>0.46</td>\n",
       "      <td>0.46</td>\n",
       "      <td>4.84e-03</td>\n",
       "      <td>7</td>\n",
       "    </tr>\n",
       "    <tr>\n",
       "      <th>7</th>\n",
       "      <td>0.48</td>\n",
       "      <td>0.08</td>\n",
       "      <td>24.75</td>\n",
       "      <td>1.72</td>\n",
       "      <td>8</td>\n",
       "      <td>{'knn__n_neighbors': 8}</td>\n",
       "      <td>0.46</td>\n",
       "      <td>0.47</td>\n",
       "      <td>0.46</td>\n",
       "      <td>0.46</td>\n",
       "      <td>0.46</td>\n",
       "      <td>0.46</td>\n",
       "      <td>4.22e-03</td>\n",
       "      <td>8</td>\n",
       "    </tr>\n",
       "    <tr>\n",
       "      <th>8</th>\n",
       "      <td>0.72</td>\n",
       "      <td>0.12</td>\n",
       "      <td>23.14</td>\n",
       "      <td>0.46</td>\n",
       "      <td>9</td>\n",
       "      <td>{'knn__n_neighbors': 9}</td>\n",
       "      <td>0.46</td>\n",
       "      <td>0.47</td>\n",
       "      <td>0.47</td>\n",
       "      <td>0.46</td>\n",
       "      <td>0.45</td>\n",
       "      <td>0.46</td>\n",
       "      <td>5.71e-03</td>\n",
       "      <td>9</td>\n",
       "    </tr>\n",
       "    <tr>\n",
       "      <th>9</th>\n",
       "      <td>0.55</td>\n",
       "      <td>0.11</td>\n",
       "      <td>23.11</td>\n",
       "      <td>1.08</td>\n",
       "      <td>10</td>\n",
       "      <td>{'knn__n_neighbors': 10}</td>\n",
       "      <td>0.45</td>\n",
       "      <td>0.46</td>\n",
       "      <td>0.46</td>\n",
       "      <td>0.46</td>\n",
       "      <td>0.45</td>\n",
       "      <td>0.46</td>\n",
       "      <td>4.55e-03</td>\n",
       "      <td>10</td>\n",
       "    </tr>\n",
       "    <tr>\n",
       "      <th>10</th>\n",
       "      <td>0.65</td>\n",
       "      <td>0.14</td>\n",
       "      <td>22.93</td>\n",
       "      <td>1.18</td>\n",
       "      <td>11</td>\n",
       "      <td>{'knn__n_neighbors': 11}</td>\n",
       "      <td>0.45</td>\n",
       "      <td>0.46</td>\n",
       "      <td>0.46</td>\n",
       "      <td>0.45</td>\n",
       "      <td>0.44</td>\n",
       "      <td>0.45</td>\n",
       "      <td>6.78e-03</td>\n",
       "      <td>11</td>\n",
       "    </tr>\n",
       "    <tr>\n",
       "      <th>11</th>\n",
       "      <td>0.81</td>\n",
       "      <td>0.16</td>\n",
       "      <td>22.76</td>\n",
       "      <td>0.83</td>\n",
       "      <td>12</td>\n",
       "      <td>{'knn__n_neighbors': 12}</td>\n",
       "      <td>0.45</td>\n",
       "      <td>0.46</td>\n",
       "      <td>0.46</td>\n",
       "      <td>0.45</td>\n",
       "      <td>0.45</td>\n",
       "      <td>0.45</td>\n",
       "      <td>6.64e-03</td>\n",
       "      <td>12</td>\n",
       "    </tr>\n",
       "    <tr>\n",
       "      <th>12</th>\n",
       "      <td>0.65</td>\n",
       "      <td>0.18</td>\n",
       "      <td>22.79</td>\n",
       "      <td>0.87</td>\n",
       "      <td>13</td>\n",
       "      <td>{'knn__n_neighbors': 13}</td>\n",
       "      <td>0.44</td>\n",
       "      <td>0.46</td>\n",
       "      <td>0.45</td>\n",
       "      <td>0.44</td>\n",
       "      <td>0.44</td>\n",
       "      <td>0.45</td>\n",
       "      <td>6.76e-03</td>\n",
       "      <td>13</td>\n",
       "    </tr>\n",
       "    <tr>\n",
       "      <th>13</th>\n",
       "      <td>0.56</td>\n",
       "      <td>0.08</td>\n",
       "      <td>22.98</td>\n",
       "      <td>0.83</td>\n",
       "      <td>14</td>\n",
       "      <td>{'knn__n_neighbors': 14}</td>\n",
       "      <td>0.44</td>\n",
       "      <td>0.45</td>\n",
       "      <td>0.45</td>\n",
       "      <td>0.44</td>\n",
       "      <td>0.44</td>\n",
       "      <td>0.44</td>\n",
       "      <td>6.11e-03</td>\n",
       "      <td>14</td>\n",
       "    </tr>\n",
       "    <tr>\n",
       "      <th>14</th>\n",
       "      <td>0.60</td>\n",
       "      <td>0.12</td>\n",
       "      <td>22.80</td>\n",
       "      <td>0.86</td>\n",
       "      <td>15</td>\n",
       "      <td>{'knn__n_neighbors': 15}</td>\n",
       "      <td>0.44</td>\n",
       "      <td>0.45</td>\n",
       "      <td>0.44</td>\n",
       "      <td>0.44</td>\n",
       "      <td>0.43</td>\n",
       "      <td>0.44</td>\n",
       "      <td>6.82e-03</td>\n",
       "      <td>16</td>\n",
       "    </tr>\n",
       "    <tr>\n",
       "      <th>15</th>\n",
       "      <td>0.75</td>\n",
       "      <td>0.10</td>\n",
       "      <td>23.09</td>\n",
       "      <td>0.57</td>\n",
       "      <td>16</td>\n",
       "      <td>{'knn__n_neighbors': 16}</td>\n",
       "      <td>0.44</td>\n",
       "      <td>0.46</td>\n",
       "      <td>0.44</td>\n",
       "      <td>0.44</td>\n",
       "      <td>0.44</td>\n",
       "      <td>0.44</td>\n",
       "      <td>5.99e-03</td>\n",
       "      <td>15</td>\n",
       "    </tr>\n",
       "    <tr>\n",
       "      <th>16</th>\n",
       "      <td>0.64</td>\n",
       "      <td>0.04</td>\n",
       "      <td>23.05</td>\n",
       "      <td>0.63</td>\n",
       "      <td>17</td>\n",
       "      <td>{'knn__n_neighbors': 17}</td>\n",
       "      <td>0.44</td>\n",
       "      <td>0.45</td>\n",
       "      <td>0.44</td>\n",
       "      <td>0.44</td>\n",
       "      <td>0.43</td>\n",
       "      <td>0.44</td>\n",
       "      <td>6.03e-03</td>\n",
       "      <td>17</td>\n",
       "    </tr>\n",
       "    <tr>\n",
       "      <th>17</th>\n",
       "      <td>0.66</td>\n",
       "      <td>0.05</td>\n",
       "      <td>23.23</td>\n",
       "      <td>0.50</td>\n",
       "      <td>18</td>\n",
       "      <td>{'knn__n_neighbors': 18}</td>\n",
       "      <td>0.44</td>\n",
       "      <td>0.45</td>\n",
       "      <td>0.44</td>\n",
       "      <td>0.43</td>\n",
       "      <td>0.43</td>\n",
       "      <td>0.44</td>\n",
       "      <td>5.79e-03</td>\n",
       "      <td>18</td>\n",
       "    </tr>\n",
       "    <tr>\n",
       "      <th>18</th>\n",
       "      <td>0.61</td>\n",
       "      <td>0.13</td>\n",
       "      <td>23.14</td>\n",
       "      <td>0.45</td>\n",
       "      <td>19</td>\n",
       "      <td>{'knn__n_neighbors': 19}</td>\n",
       "      <td>0.43</td>\n",
       "      <td>0.45</td>\n",
       "      <td>0.44</td>\n",
       "      <td>0.44</td>\n",
       "      <td>0.43</td>\n",
       "      <td>0.44</td>\n",
       "      <td>6.19e-03</td>\n",
       "      <td>19</td>\n",
       "    </tr>\n",
       "    <tr>\n",
       "      <th>19</th>\n",
       "      <td>0.69</td>\n",
       "      <td>0.09</td>\n",
       "      <td>23.02</td>\n",
       "      <td>0.50</td>\n",
       "      <td>20</td>\n",
       "      <td>{'knn__n_neighbors': 20}</td>\n",
       "      <td>0.43</td>\n",
       "      <td>0.44</td>\n",
       "      <td>0.43</td>\n",
       "      <td>0.43</td>\n",
       "      <td>0.43</td>\n",
       "      <td>0.43</td>\n",
       "      <td>5.16e-03</td>\n",
       "      <td>21</td>\n",
       "    </tr>\n",
       "    <tr>\n",
       "      <th>20</th>\n",
       "      <td>0.61</td>\n",
       "      <td>0.07</td>\n",
       "      <td>23.09</td>\n",
       "      <td>0.82</td>\n",
       "      <td>21</td>\n",
       "      <td>{'knn__n_neighbors': 21}</td>\n",
       "      <td>0.43</td>\n",
       "      <td>0.45</td>\n",
       "      <td>0.43</td>\n",
       "      <td>0.43</td>\n",
       "      <td>0.43</td>\n",
       "      <td>0.43</td>\n",
       "      <td>6.52e-03</td>\n",
       "      <td>22</td>\n",
       "    </tr>\n",
       "    <tr>\n",
       "      <th>21</th>\n",
       "      <td>0.66</td>\n",
       "      <td>0.07</td>\n",
       "      <td>23.30</td>\n",
       "      <td>0.74</td>\n",
       "      <td>22</td>\n",
       "      <td>{'knn__n_neighbors': 22}</td>\n",
       "      <td>0.43</td>\n",
       "      <td>0.45</td>\n",
       "      <td>0.43</td>\n",
       "      <td>0.43</td>\n",
       "      <td>0.43</td>\n",
       "      <td>0.43</td>\n",
       "      <td>8.23e-03</td>\n",
       "      <td>20</td>\n",
       "    </tr>\n",
       "    <tr>\n",
       "      <th>22</th>\n",
       "      <td>0.58</td>\n",
       "      <td>0.09</td>\n",
       "      <td>22.70</td>\n",
       "      <td>0.68</td>\n",
       "      <td>23</td>\n",
       "      <td>{'knn__n_neighbors': 23}</td>\n",
       "      <td>0.43</td>\n",
       "      <td>0.45</td>\n",
       "      <td>0.43</td>\n",
       "      <td>0.43</td>\n",
       "      <td>0.42</td>\n",
       "      <td>0.43</td>\n",
       "      <td>8.69e-03</td>\n",
       "      <td>23</td>\n",
       "    </tr>\n",
       "    <tr>\n",
       "      <th>23</th>\n",
       "      <td>0.65</td>\n",
       "      <td>0.09</td>\n",
       "      <td>23.35</td>\n",
       "      <td>0.70</td>\n",
       "      <td>24</td>\n",
       "      <td>{'knn__n_neighbors': 24}</td>\n",
       "      <td>0.44</td>\n",
       "      <td>0.44</td>\n",
       "      <td>0.43</td>\n",
       "      <td>0.43</td>\n",
       "      <td>0.42</td>\n",
       "      <td>0.43</td>\n",
       "      <td>8.62e-03</td>\n",
       "      <td>24</td>\n",
       "    </tr>\n",
       "    <tr>\n",
       "      <th>24</th>\n",
       "      <td>0.64</td>\n",
       "      <td>0.04</td>\n",
       "      <td>22.93</td>\n",
       "      <td>0.64</td>\n",
       "      <td>25</td>\n",
       "      <td>{'knn__n_neighbors': 25}</td>\n",
       "      <td>0.43</td>\n",
       "      <td>0.44</td>\n",
       "      <td>0.43</td>\n",
       "      <td>0.43</td>\n",
       "      <td>0.42</td>\n",
       "      <td>0.43</td>\n",
       "      <td>8.73e-03</td>\n",
       "      <td>25</td>\n",
       "    </tr>\n",
       "    <tr>\n",
       "      <th>25</th>\n",
       "      <td>0.62</td>\n",
       "      <td>0.09</td>\n",
       "      <td>22.89</td>\n",
       "      <td>0.38</td>\n",
       "      <td>26</td>\n",
       "      <td>{'knn__n_neighbors': 26}</td>\n",
       "      <td>0.43</td>\n",
       "      <td>0.44</td>\n",
       "      <td>0.43</td>\n",
       "      <td>0.43</td>\n",
       "      <td>0.42</td>\n",
       "      <td>0.43</td>\n",
       "      <td>8.47e-03</td>\n",
       "      <td>26</td>\n",
       "    </tr>\n",
       "    <tr>\n",
       "      <th>26</th>\n",
       "      <td>0.56</td>\n",
       "      <td>0.13</td>\n",
       "      <td>22.71</td>\n",
       "      <td>0.66</td>\n",
       "      <td>27</td>\n",
       "      <td>{'knn__n_neighbors': 27}</td>\n",
       "      <td>0.43</td>\n",
       "      <td>0.44</td>\n",
       "      <td>0.42</td>\n",
       "      <td>0.42</td>\n",
       "      <td>0.42</td>\n",
       "      <td>0.43</td>\n",
       "      <td>8.46e-03</td>\n",
       "      <td>27</td>\n",
       "    </tr>\n",
       "    <tr>\n",
       "      <th>27</th>\n",
       "      <td>0.50</td>\n",
       "      <td>0.12</td>\n",
       "      <td>22.97</td>\n",
       "      <td>0.44</td>\n",
       "      <td>28</td>\n",
       "      <td>{'knn__n_neighbors': 28}</td>\n",
       "      <td>0.43</td>\n",
       "      <td>0.44</td>\n",
       "      <td>0.42</td>\n",
       "      <td>0.42</td>\n",
       "      <td>0.42</td>\n",
       "      <td>0.43</td>\n",
       "      <td>7.60e-03</td>\n",
       "      <td>29</td>\n",
       "    </tr>\n",
       "    <tr>\n",
       "      <th>28</th>\n",
       "      <td>0.56</td>\n",
       "      <td>0.17</td>\n",
       "      <td>22.57</td>\n",
       "      <td>0.78</td>\n",
       "      <td>29</td>\n",
       "      <td>{'knn__n_neighbors': 29}</td>\n",
       "      <td>0.43</td>\n",
       "      <td>0.44</td>\n",
       "      <td>0.42</td>\n",
       "      <td>0.43</td>\n",
       "      <td>0.42</td>\n",
       "      <td>0.43</td>\n",
       "      <td>6.45e-03</td>\n",
       "      <td>28</td>\n",
       "    </tr>\n",
       "  </tbody>\n",
       "</table>\n",
       "</div>"
      ],
      "text/plain": [
       "    mean_fit_time  std_fit_time  mean_score_time  std_score_time  \\\n",
       "0            0.52          0.10            25.72            1.89   \n",
       "1            0.67          0.06            25.01            1.15   \n",
       "2            0.53          0.10            25.12            0.80   \n",
       "3            0.40          0.01            26.85            0.58   \n",
       "4            0.43          0.06            26.76            0.30   \n",
       "5            0.56          0.15            26.59            0.87   \n",
       "6            0.58          0.17            24.46            1.88   \n",
       "7            0.48          0.08            24.75            1.72   \n",
       "8            0.72          0.12            23.14            0.46   \n",
       "9            0.55          0.11            23.11            1.08   \n",
       "10           0.65          0.14            22.93            1.18   \n",
       "11           0.81          0.16            22.76            0.83   \n",
       "12           0.65          0.18            22.79            0.87   \n",
       "13           0.56          0.08            22.98            0.83   \n",
       "14           0.60          0.12            22.80            0.86   \n",
       "15           0.75          0.10            23.09            0.57   \n",
       "16           0.64          0.04            23.05            0.63   \n",
       "17           0.66          0.05            23.23            0.50   \n",
       "18           0.61          0.13            23.14            0.45   \n",
       "19           0.69          0.09            23.02            0.50   \n",
       "20           0.61          0.07            23.09            0.82   \n",
       "21           0.66          0.07            23.30            0.74   \n",
       "22           0.58          0.09            22.70            0.68   \n",
       "23           0.65          0.09            23.35            0.70   \n",
       "24           0.64          0.04            22.93            0.64   \n",
       "25           0.62          0.09            22.89            0.38   \n",
       "26           0.56          0.13            22.71            0.66   \n",
       "27           0.50          0.12            22.97            0.44   \n",
       "28           0.56          0.17            22.57            0.78   \n",
       "\n",
       "   param_knn__n_neighbors                    params  split0_test_score  \\\n",
       "0                       1   {'knn__n_neighbors': 1}               0.57   \n",
       "1                       2   {'knn__n_neighbors': 2}               0.48   \n",
       "2                       3   {'knn__n_neighbors': 3}               0.49   \n",
       "3                       4   {'knn__n_neighbors': 4}               0.48   \n",
       "4                       5   {'knn__n_neighbors': 5}               0.47   \n",
       "5                       6   {'knn__n_neighbors': 6}               0.47   \n",
       "6                       7   {'knn__n_neighbors': 7}               0.46   \n",
       "7                       8   {'knn__n_neighbors': 8}               0.46   \n",
       "8                       9   {'knn__n_neighbors': 9}               0.46   \n",
       "9                      10  {'knn__n_neighbors': 10}               0.45   \n",
       "10                     11  {'knn__n_neighbors': 11}               0.45   \n",
       "11                     12  {'knn__n_neighbors': 12}               0.45   \n",
       "12                     13  {'knn__n_neighbors': 13}               0.44   \n",
       "13                     14  {'knn__n_neighbors': 14}               0.44   \n",
       "14                     15  {'knn__n_neighbors': 15}               0.44   \n",
       "15                     16  {'knn__n_neighbors': 16}               0.44   \n",
       "16                     17  {'knn__n_neighbors': 17}               0.44   \n",
       "17                     18  {'knn__n_neighbors': 18}               0.44   \n",
       "18                     19  {'knn__n_neighbors': 19}               0.43   \n",
       "19                     20  {'knn__n_neighbors': 20}               0.43   \n",
       "20                     21  {'knn__n_neighbors': 21}               0.43   \n",
       "21                     22  {'knn__n_neighbors': 22}               0.43   \n",
       "22                     23  {'knn__n_neighbors': 23}               0.43   \n",
       "23                     24  {'knn__n_neighbors': 24}               0.44   \n",
       "24                     25  {'knn__n_neighbors': 25}               0.43   \n",
       "25                     26  {'knn__n_neighbors': 26}               0.43   \n",
       "26                     27  {'knn__n_neighbors': 27}               0.43   \n",
       "27                     28  {'knn__n_neighbors': 28}               0.43   \n",
       "28                     29  {'knn__n_neighbors': 29}               0.43   \n",
       "\n",
       "    split1_test_score  split2_test_score  split3_test_score  \\\n",
       "0                0.56               0.57               0.55   \n",
       "1                0.47               0.49               0.46   \n",
       "2                0.49               0.49               0.47   \n",
       "3                0.48               0.49               0.48   \n",
       "4                0.48               0.48               0.47   \n",
       "5                0.47               0.47               0.46   \n",
       "6                0.47               0.47               0.46   \n",
       "7                0.47               0.46               0.46   \n",
       "8                0.47               0.47               0.46   \n",
       "9                0.46               0.46               0.46   \n",
       "10               0.46               0.46               0.45   \n",
       "11               0.46               0.46               0.45   \n",
       "12               0.46               0.45               0.44   \n",
       "13               0.45               0.45               0.44   \n",
       "14               0.45               0.44               0.44   \n",
       "15               0.46               0.44               0.44   \n",
       "16               0.45               0.44               0.44   \n",
       "17               0.45               0.44               0.43   \n",
       "18               0.45               0.44               0.44   \n",
       "19               0.44               0.43               0.43   \n",
       "20               0.45               0.43               0.43   \n",
       "21               0.45               0.43               0.43   \n",
       "22               0.45               0.43               0.43   \n",
       "23               0.44               0.43               0.43   \n",
       "24               0.44               0.43               0.43   \n",
       "25               0.44               0.43               0.43   \n",
       "26               0.44               0.42               0.42   \n",
       "27               0.44               0.42               0.42   \n",
       "28               0.44               0.42               0.43   \n",
       "\n",
       "    split4_test_score  mean_test_score  std_test_score  rank_test_score  \n",
       "0                0.55             0.56        7.73e-03                1  \n",
       "1                0.47             0.48        7.50e-03                5  \n",
       "2                0.48             0.48        5.56e-03                2  \n",
       "3                0.47             0.48        6.64e-03                3  \n",
       "4                0.47             0.48        6.28e-03                4  \n",
       "5                0.47             0.47        3.93e-03                6  \n",
       "6                0.46             0.46        4.84e-03                7  \n",
       "7                0.46             0.46        4.22e-03                8  \n",
       "8                0.45             0.46        5.71e-03                9  \n",
       "9                0.45             0.46        4.55e-03               10  \n",
       "10               0.44             0.45        6.78e-03               11  \n",
       "11               0.45             0.45        6.64e-03               12  \n",
       "12               0.44             0.45        6.76e-03               13  \n",
       "13               0.44             0.44        6.11e-03               14  \n",
       "14               0.43             0.44        6.82e-03               16  \n",
       "15               0.44             0.44        5.99e-03               15  \n",
       "16               0.43             0.44        6.03e-03               17  \n",
       "17               0.43             0.44        5.79e-03               18  \n",
       "18               0.43             0.44        6.19e-03               19  \n",
       "19               0.43             0.43        5.16e-03               21  \n",
       "20               0.43             0.43        6.52e-03               22  \n",
       "21               0.43             0.43        8.23e-03               20  \n",
       "22               0.42             0.43        8.69e-03               23  \n",
       "23               0.42             0.43        8.62e-03               24  \n",
       "24               0.42             0.43        8.73e-03               25  \n",
       "25               0.42             0.43        8.47e-03               26  \n",
       "26               0.42             0.43        8.46e-03               27  \n",
       "27               0.42             0.43        7.60e-03               29  \n",
       "28               0.42             0.43        6.45e-03               28  "
      ]
     },
     "execution_count": 17,
     "metadata": {},
     "output_type": "execute_result"
    }
   ],
   "source": [
    "pd.DataFrame(knn_grid.cv_results_)\n",
    "\n",
    "# 3 neighbors "
   ]
  },
  {
   "cell_type": "code",
   "execution_count": null,
   "metadata": {
    "colab": {
     "base_uri": "https://localhost:8080/"
    },
    "id": "3mJ9fx3KbXDH",
    "outputId": "2b8fcdaf-5292-4b10-b63c-97272b69f119"
   },
   "outputs": [
    {
     "name": "stdout",
     "output_type": "stream",
     "text": [
      "Fitting 5 folds for each of 11 candidates, totalling 55 fits\n",
      "Best parameters: {'max_depth': 14}\n"
     ]
    },
    {
     "data": {
      "text/plain": [
       "0.5328158720371412"
      ]
     },
     "execution_count": 12,
     "metadata": {},
     "output_type": "execute_result"
    }
   ],
   "source": [
    "tree_rf = RandomForestClassifier(random_state=42)\n",
    "tree_rf_params = {'max_depth': range(4, 15),\n",
    "              #  'n_estimators': range(100, 2000, 100),\n",
    "              #  'criterion': ['gini', 'entropy']\n",
    "               }\n",
    "\n",
    "tree_rf_grid = GridSearchCV(tree_rf, tree_rf_params, cv=5, n_jobs=-1, verbose=True)\n",
    "\n",
    "tree_rf_grid.fit(X_train, y_train)\n",
    "\n",
    "\n",
    "print(f\"Best parameters: {tree_rf_grid.best_params_}\") \n",
    "\n",
    "tree_rf_grid.best_score_\n",
    "\n",
    "accuracy_score(y_test, tree_rf_grid.predict(X_test)) "
   ]
  },
  {
   "cell_type": "code",
   "execution_count": null,
   "metadata": {
    "colab": {
     "base_uri": "https://localhost:8080/"
    },
    "id": "OahzroxTiGt_",
    "outputId": "6a210143-c8cb-4041-b203-3c1e1f759b8f"
   },
   "outputs": [
    {
     "name": "stdout",
     "output_type": "stream",
     "text": [
      "Results on the test set:\n",
      "              precision    recall  f1-score   support\n",
      "\n",
      "         1.0       0.57      0.64      0.60      9135\n",
      "        10.0       0.43      0.43      0.43      8184\n",
      "        12.0       0.67      0.09      0.16      4442\n",
      "        17.0       0.57      0.71      0.63      7517\n",
      "        21.0       0.62      0.58      0.60      3806\n",
      "        25.0       0.52      0.76      0.61      5392\n",
      "        32.0       0.54      0.50      0.52      8054\n",
      "        38.0       0.51      0.47      0.48      8611\n",
      "\n",
      "    accuracy                           0.53     55141\n",
      "   macro avg       0.55      0.52      0.51     55141\n",
      "weighted avg       0.54      0.53      0.52     55141\n",
      "\n"
     ]
    }
   ],
   "source": [
    "print('Results on the test set:')\n",
    "print(classification_report(y_test, tree_rf_grid.predict(X_test)))"
   ]
  },
  {
   "cell_type": "code",
   "execution_count": null,
   "metadata": {
    "id": "0m7sTJRKc6Py"
   },
   "outputs": [],
   "source": [
    "# SGD\n",
    "sgd_clf = SGDClassifier(loss='log')\n",
    "\n",
    "sgd_clf_params = {'max_iter': range(500, 3000, 100)}\n",
    "\n",
    "sgd_clf_grid = GridSearchCV(sgd_clf, sgd_clf_params, cv=5, n_jobs=-1, verbose=True)\n",
    "\n",
    "sgd_clf_grid.fit(X_train, y_train)\n",
    "\n",
    "\n",
    "print(f\"Best parameters: {sgd_clf_grid.best_params_}\") \n",
    "\n",
    "sgd_clf_grid.best_score_\n",
    "\n",
    "accuracy_score(y_test, sgd_clf_grid.predict(X_test)) "
   ]
  },
  {
   "cell_type": "code",
   "execution_count": null,
   "metadata": {
    "id": "SPSqnM5ZiDM_"
   },
   "outputs": [],
   "source": [
    "print('Results on the test set:')\n",
    "print(classification_report(y_test, sgd_clf_grid.predict(X_test)))"
   ]
  },
  {
   "cell_type": "code",
   "execution_count": null,
   "metadata": {
    "colab": {
     "base_uri": "https://localhost:8080/"
    },
    "id": "Bcc1iP-Cc-K0",
    "outputId": "13fc08af-438b-41b8-bb0c-8579dea097a3"
   },
   "outputs": [
    {
     "name": "stdout",
     "output_type": "stream",
     "text": [
      "Fitting 5 folds for each of 5 candidates, totalling 25 fits\n"
     ]
    }
   ],
   "source": [
    "# SVM\n",
    "svm_clf = SVC(probability=True)\n",
    "\n",
    "svm_params = {'kernel': [\"linear\", \"poly\", \"rbf\", \"sigmoid\", \"precomputed\"]}\n",
    "\n",
    "svm_grid = GridSearchCV(svm_clf, svm_params, cv=5, n_jobs=-1, verbose=True)\n",
    "\n",
    "svm_grid.fit(X_train, y_train)\n",
    "\n",
    "\n",
    "print(f\"Best parameters: {svm_grid.best_params_}\") \n",
    "\n",
    "svm_grid.best_score_\n",
    "\n",
    "accuracy_score(y_test, svm_grid.predict(X_test)) "
   ]
  },
  {
   "cell_type": "code",
   "execution_count": null,
   "metadata": {
    "id": "f-6qTfwxh_Ii"
   },
   "outputs": [],
   "source": [
    "print('Results on the test set:')\n",
    "print(classification_report(y_test, svm_grid.predict(X_test)))"
   ]
  },
  {
   "cell_type": "code",
   "execution_count": null,
   "metadata": {
    "colab": {
     "base_uri": "https://localhost:8080/"
    },
    "id": "MYqdxYLSc_Vv",
    "outputId": "8992711b-b0c1-4309-9c84-9e33f8e53c7e"
   },
   "outputs": [
    {
     "name": "stdout",
     "output_type": "stream",
     "text": [
      "Fitting 5 folds for each of 4 candidates, totalling 20 fits\n",
      "Best parameters: {'mlp__activation': 'relu', 'mlp__hidden_layer_sizes': (100, 200, 300), 'mlp__learning_rate': 'adaptive'}\n",
      "0.4276115342763873\n",
      "0.44493208320487476\n",
      "Results on the test set:\n",
      "              precision    recall  f1-score   support\n",
      "\n",
      "         1.0       0.50      0.48      0.49      9135\n",
      "        10.0       0.37      0.39      0.38      8184\n",
      "        12.0       0.31      0.27      0.29      4442\n",
      "        17.0       0.57      0.56      0.57      7517\n",
      "        21.0       0.57      0.54      0.55      3806\n",
      "        25.0       0.53      0.54      0.53      5392\n",
      "        32.0       0.42      0.41      0.41      8054\n",
      "        38.0       0.35      0.39      0.37      8611\n",
      "\n",
      "    accuracy                           0.44     55141\n",
      "   macro avg       0.45      0.45      0.45     55141\n",
      "weighted avg       0.45      0.44      0.45     55141\n",
      "\n"
     ]
    }
   ],
   "source": [
    "# MLP\n",
    "mlp_pipe = Pipeline([('scaler', StandardScaler()), ('mlp', MLPClassifier())])\n",
    "\n",
    "mlp_params = {'mlp__hidden_layer_sizes': [(200, 50), (100,100), \n",
    "                                          (100, 200, 100, 200), \n",
    "                                          (100, 200, 300)],\n",
    "              'mlp__activation': ['relu'],\n",
    "              # 'mlp__solver': ['sgd', 'adam', 'lbfgs'],\n",
    "              # 'mlp__alpha': [0.0001, 0.001, 0.01, 0.05],\n",
    "              'mlp__learning_rate': ['adaptive'],\n",
    "              }\n",
    "\n",
    "mlp_grid = GridSearchCV(mlp_pipe, mlp_params, cv=5, n_jobs=-1, verbose=True)\n",
    "\n",
    "mlp_grid.fit(X_train, y_train)\n",
    "\n",
    "\n",
    "print(f\"Best parameters: {mlp_grid.best_params_}\") \n",
    "\n",
    "print(mlp_grid.best_score_)\n",
    "\n",
    "print(accuracy_score(y_test, mlp_grid.predict(X_test)))\n",
    "\n",
    "print('Results on the test set:')\n",
    "print(classification_report(y_test, mlp_grid.predict(X_test)))"
   ]
  },
  {
   "cell_type": "code",
   "execution_count": null,
   "metadata": {
    "colab": {
     "base_uri": "https://localhost:8080/",
     "height": 329
    },
    "id": "jpwa-Yl1852H",
    "outputId": "f272a2d3-bf87-4721-e24f-ad19962f3a94"
   },
   "outputs": [
    {
     "data": {
      "text/html": [
       "<div>\n",
       "<style scoped>\n",
       "    .dataframe tbody tr th:only-of-type {\n",
       "        vertical-align: middle;\n",
       "    }\n",
       "\n",
       "    .dataframe tbody tr th {\n",
       "        vertical-align: top;\n",
       "    }\n",
       "\n",
       "    .dataframe thead th {\n",
       "        text-align: right;\n",
       "    }\n",
       "</style>\n",
       "<table border=\"1\" class=\"dataframe\">\n",
       "  <thead>\n",
       "    <tr style=\"text-align: right;\">\n",
       "      <th></th>\n",
       "      <th>mean_fit_time</th>\n",
       "      <th>std_fit_time</th>\n",
       "      <th>mean_score_time</th>\n",
       "      <th>std_score_time</th>\n",
       "      <th>param_mlp__activation</th>\n",
       "      <th>param_mlp__hidden_layer_sizes</th>\n",
       "      <th>param_mlp__learning_rate</th>\n",
       "      <th>params</th>\n",
       "      <th>split0_test_score</th>\n",
       "      <th>split1_test_score</th>\n",
       "      <th>split2_test_score</th>\n",
       "      <th>split3_test_score</th>\n",
       "      <th>split4_test_score</th>\n",
       "      <th>mean_test_score</th>\n",
       "      <th>std_test_score</th>\n",
       "      <th>rank_test_score</th>\n",
       "    </tr>\n",
       "  </thead>\n",
       "  <tbody>\n",
       "    <tr>\n",
       "      <th>0</th>\n",
       "      <td>142.74</td>\n",
       "      <td>11.06</td>\n",
       "      <td>0.19</td>\n",
       "      <td>5.06e-03</td>\n",
       "      <td>relu</td>\n",
       "      <td>(200, 50)</td>\n",
       "      <td>adaptive</td>\n",
       "      <td>{'mlp__activation': 'relu', 'mlp__hidden_layer...</td>\n",
       "      <td>0.41</td>\n",
       "      <td>0.42</td>\n",
       "      <td>0.41</td>\n",
       "      <td>0.42</td>\n",
       "      <td>0.41</td>\n",
       "      <td>0.41</td>\n",
       "      <td>3.27e-03</td>\n",
       "      <td>3</td>\n",
       "    </tr>\n",
       "    <tr>\n",
       "      <th>1</th>\n",
       "      <td>154.90</td>\n",
       "      <td>32.39</td>\n",
       "      <td>0.15</td>\n",
       "      <td>9.28e-03</td>\n",
       "      <td>relu</td>\n",
       "      <td>(100, 100)</td>\n",
       "      <td>adaptive</td>\n",
       "      <td>{'mlp__activation': 'relu', 'mlp__hidden_layer...</td>\n",
       "      <td>0.39</td>\n",
       "      <td>0.40</td>\n",
       "      <td>0.39</td>\n",
       "      <td>0.39</td>\n",
       "      <td>0.39</td>\n",
       "      <td>0.39</td>\n",
       "      <td>4.04e-03</td>\n",
       "      <td>4</td>\n",
       "    </tr>\n",
       "    <tr>\n",
       "      <th>2</th>\n",
       "      <td>141.56</td>\n",
       "      <td>21.20</td>\n",
       "      <td>0.22</td>\n",
       "      <td>1.10e-02</td>\n",
       "      <td>relu</td>\n",
       "      <td>(100, 200, 100, 200)</td>\n",
       "      <td>adaptive</td>\n",
       "      <td>{'mlp__activation': 'relu', 'mlp__hidden_layer...</td>\n",
       "      <td>0.41</td>\n",
       "      <td>0.42</td>\n",
       "      <td>0.42</td>\n",
       "      <td>0.42</td>\n",
       "      <td>0.42</td>\n",
       "      <td>0.42</td>\n",
       "      <td>3.38e-03</td>\n",
       "      <td>2</td>\n",
       "    </tr>\n",
       "    <tr>\n",
       "      <th>3</th>\n",
       "      <td>195.94</td>\n",
       "      <td>17.20</td>\n",
       "      <td>0.21</td>\n",
       "      <td>3.63e-02</td>\n",
       "      <td>relu</td>\n",
       "      <td>(100, 200, 300)</td>\n",
       "      <td>adaptive</td>\n",
       "      <td>{'mlp__activation': 'relu', 'mlp__hidden_layer...</td>\n",
       "      <td>0.42</td>\n",
       "      <td>0.44</td>\n",
       "      <td>0.43</td>\n",
       "      <td>0.42</td>\n",
       "      <td>0.43</td>\n",
       "      <td>0.43</td>\n",
       "      <td>7.62e-03</td>\n",
       "      <td>1</td>\n",
       "    </tr>\n",
       "  </tbody>\n",
       "</table>\n",
       "</div>"
      ],
      "text/plain": [
       "   mean_fit_time  std_fit_time  mean_score_time  std_score_time  \\\n",
       "0         142.74         11.06             0.19        5.06e-03   \n",
       "1         154.90         32.39             0.15        9.28e-03   \n",
       "2         141.56         21.20             0.22        1.10e-02   \n",
       "3         195.94         17.20             0.21        3.63e-02   \n",
       "\n",
       "  param_mlp__activation param_mlp__hidden_layer_sizes  \\\n",
       "0                  relu                     (200, 50)   \n",
       "1                  relu                    (100, 100)   \n",
       "2                  relu          (100, 200, 100, 200)   \n",
       "3                  relu               (100, 200, 300)   \n",
       "\n",
       "  param_mlp__learning_rate                                             params  \\\n",
       "0                 adaptive  {'mlp__activation': 'relu', 'mlp__hidden_layer...   \n",
       "1                 adaptive  {'mlp__activation': 'relu', 'mlp__hidden_layer...   \n",
       "2                 adaptive  {'mlp__activation': 'relu', 'mlp__hidden_layer...   \n",
       "3                 adaptive  {'mlp__activation': 'relu', 'mlp__hidden_layer...   \n",
       "\n",
       "   split0_test_score  split1_test_score  split2_test_score  split3_test_score  \\\n",
       "0               0.41               0.42               0.41               0.42   \n",
       "1               0.39               0.40               0.39               0.39   \n",
       "2               0.41               0.42               0.42               0.42   \n",
       "3               0.42               0.44               0.43               0.42   \n",
       "\n",
       "   split4_test_score  mean_test_score  std_test_score  rank_test_score  \n",
       "0               0.41             0.41        3.27e-03                3  \n",
       "1               0.39             0.39        4.04e-03                4  \n",
       "2               0.42             0.42        3.38e-03                2  \n",
       "3               0.43             0.43        7.62e-03                1  "
      ]
     },
     "execution_count": 19,
     "metadata": {},
     "output_type": "execute_result"
    }
   ],
   "source": [
    "pd.DataFrame(mlp_grid.cv_results_)"
   ]
  },
  {
   "cell_type": "code",
   "execution_count": null,
   "metadata": {
    "id": "nFImJZkpLXZl"
   },
   "outputs": [],
   "source": [
    "def plot_score_comparison(scores, metric):\n",
    "    \"\"\"\n",
    "    plot_score_comparison plots the score comparison of the K-Fold Cross Validation.\n",
    "    We can visually compare the performance of each model.\n",
    "    \n",
    "    Input :  scores            Dictionary: {model name : list of scores for the model}\n",
    "             metric            String: metric used\n",
    "    \n",
    "    Author: Conrad Pereira\n",
    "    \n",
    "    \"\"\"\n",
    "    fig = plt.figure(figsize=(10,6))\n",
    "    fig.suptitle(metric + ' Score Comparison using K-Fold Cross-Validation')\n",
    "    ax = fig.add_subplot(111)\n",
    "    for i, (k, v) in enumerate(scores.items()):\n",
    "        ax.scatter(i * np.ones(len(v)) + 1, v, label=k, alpha=0.5)\n",
    "    for i in range(5):\n",
    "        ax.plot(range(1,len(scores)+1), [scores[k][i] for k in scores.keys()], c='k', alpha=0.2)\n",
    "    ax.boxplot(scores.values())\n",
    "    plt.legend(bbox_to_anchor=(1,1), loc=\"upper left\")\n",
    "    plt.show()"
   ]
  },
  {
   "cell_type": "markdown",
   "metadata": {
    "id": "vlarluTBvqiK"
   },
   "source": [
    "# Selecting Training/Validation/Test Size and Optimal Models\n",
    "\n",
    "\n",
    "Initially, we trained on a small sample of the data, after increasing the size of the training data and performing a grid search for better hyperparameters we found that accuracy increased significantly. With our best model being an ensemble (highest vote of our best performing models Random Forest, KNN, and MLP) that achieved an accuracy of 70% on the test set. This is a great result, considering that we had initially only reached about 48% accuracy with the ensemble model. As seen in the chart below, it is useful to increase the size of the data, with some models improving more than others when training on a larger amounts of data. In this use case, we want to use as much data as possible when training because we have no time constraints for training/prediction, we only care about getting the best possible result on the test set. In a real world environment, we may choose to use a less powerful model with lower training and prediction time in order to optimize an application and reduce use of computing resources.\n",
    "\n",
    "\n"
   ]
  },
  {
   "cell_type": "markdown",
   "metadata": {
    "id": "Xsp6p2HD0T-p"
   },
   "source": [
    "![image.png](data:image/png;base64,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)\n"
   ]
  },
  {
   "cell_type": "code",
   "execution_count": null,
   "metadata": {
    "id": "l7AEHqY_0Uro"
   },
   "outputs": [],
   "source": []
  }
 ],
 "metadata": {
  "accelerator": "GPU",
  "colab": {
   "collapsed_sections": [],
   "name": "HyperparameterTuning_Milestone3.ipynb",
   "provenance": [],
   "toc_visible": true
  },
  "kernelspec": {
   "display_name": "Python 3",
   "language": "python",
   "name": "python3"
  },
  "language_info": {
   "codemirror_mode": {
    "name": "ipython",
    "version": 3
   },
   "file_extension": ".py",
   "mimetype": "text/x-python",
   "name": "python",
   "nbconvert_exporter": "python",
   "pygments_lexer": "ipython3",
   "version": "3.8.5"
  }
 },
 "nbformat": 4,
 "nbformat_minor": 1
}
