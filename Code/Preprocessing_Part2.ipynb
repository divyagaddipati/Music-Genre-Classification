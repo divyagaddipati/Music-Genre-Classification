{
 "cells": [
  {
   "cell_type": "code",
   "execution_count": 1,
   "metadata": {},
   "outputs": [],
   "source": [
    "import os\n",
    "import time\n",
    "import numpy as np\n",
    "import pandas as pd\n",
    "import seaborn as sns; sns.set()\n",
    "\n",
    "import sklearn\n",
    "from sklearn.model_selection import KFold, cross_validate, cross_val_score, cross_val_predict\n",
    "from sklearn.preprocessing import StandardScaler\n",
    "from sklearn.model_selection import train_test_split, StratifiedKFold # Split data\n",
    "from sklearn.metrics import accuracy_score # Compute accuracy\n",
    "from sklearn.metrics import f1_score\n",
    "from sklearn.preprocessing import Normalizer, MinMaxScaler\n",
    "\n",
    "from sklearn.model_selection import GridSearchCV\n",
    "from sklearn.pipeline import Pipeline\n",
    "from sklearn.metrics import classification_report\n",
    "\n",
    "from sklearn.decomposition import PCA\n",
    "\n",
    "from sklearn.preprocessing import LabelEncoder\n",
    "\n",
    "import warnings\n",
    "warnings.filterwarnings('ignore')"
   ]
  },
  {
   "cell_type": "markdown",
   "metadata": {},
   "source": [
    "### Loading Data and Converting Categorical data to Numeric"
   ]
  },
  {
   "cell_type": "code",
   "execution_count": 2,
   "metadata": {},
   "outputs": [
    {
     "data": {
      "text/plain": [
       "(201213, 525)"
      ]
     },
     "execution_count": 2,
     "metadata": {},
     "output_type": "execute_result"
    }
   ],
   "source": [
    "all_data = pd.read_csv(\"../Data/preprocessed_synthetic_data_fma.csv\")\n",
    "all_data.shape"
   ]
  },
  {
   "cell_type": "code",
   "execution_count": 3,
   "metadata": {},
   "outputs": [
    {
     "data": {
      "text/html": [
       "<div>\n",
       "<style scoped>\n",
       "    .dataframe tbody tr th:only-of-type {\n",
       "        vertical-align: middle;\n",
       "    }\n",
       "\n",
       "    .dataframe tbody tr th {\n",
       "        vertical-align: top;\n",
       "    }\n",
       "\n",
       "    .dataframe thead th {\n",
       "        text-align: right;\n",
       "    }\n",
       "</style>\n",
       "<table border=\"1\" class=\"dataframe\">\n",
       "  <thead>\n",
       "    <tr style=\"text-align: right;\">\n",
       "      <th></th>\n",
       "      <th>track_id</th>\n",
       "      <th>title</th>\n",
       "      <th>title.1</th>\n",
       "      <th>location</th>\n",
       "      <th>name</th>\n",
       "      <th>bit_rate</th>\n",
       "      <th>genre_id</th>\n",
       "      <th>chroma_cens</th>\n",
       "      <th>chroma_cens.1</th>\n",
       "      <th>chroma_cens.2</th>\n",
       "      <th>...</th>\n",
       "      <th>tonnetz.39</th>\n",
       "      <th>tonnetz.40</th>\n",
       "      <th>tonnetz.41</th>\n",
       "      <th>zcr</th>\n",
       "      <th>zcr.1</th>\n",
       "      <th>zcr.2</th>\n",
       "      <th>zcr.3</th>\n",
       "      <th>zcr.4</th>\n",
       "      <th>zcr.5</th>\n",
       "      <th>zcr.6</th>\n",
       "    </tr>\n",
       "  </thead>\n",
       "  <tbody>\n",
       "    <tr>\n",
       "      <th>0</th>\n",
       "      <td>2</td>\n",
       "      <td>AWOL - A Way Of Life</td>\n",
       "      <td>Food</td>\n",
       "      <td>New Jersey</td>\n",
       "      <td>AWOL</td>\n",
       "      <td>256000</td>\n",
       "      <td>21.0</td>\n",
       "      <td>7.180653</td>\n",
       "      <td>5.230309</td>\n",
       "      <td>0.249321</td>\n",
       "      <td>...</td>\n",
       "      <td>0.054125</td>\n",
       "      <td>0.012226</td>\n",
       "      <td>0.012111</td>\n",
       "      <td>5.758890</td>\n",
       "      <td>0.459473</td>\n",
       "      <td>0.085629</td>\n",
       "      <td>0.071289</td>\n",
       "      <td>0.000000</td>\n",
       "      <td>2.089872</td>\n",
       "      <td>0.061448</td>\n",
       "    </tr>\n",
       "    <tr>\n",
       "      <th>1</th>\n",
       "      <td>3</td>\n",
       "      <td>AWOL - A Way Of Life</td>\n",
       "      <td>Electric Ave</td>\n",
       "      <td>New Jersey</td>\n",
       "      <td>AWOL</td>\n",
       "      <td>256000</td>\n",
       "      <td>21.0</td>\n",
       "      <td>1.888963</td>\n",
       "      <td>0.760539</td>\n",
       "      <td>0.345297</td>\n",
       "      <td>...</td>\n",
       "      <td>0.063831</td>\n",
       "      <td>0.014212</td>\n",
       "      <td>0.017740</td>\n",
       "      <td>2.824694</td>\n",
       "      <td>0.466309</td>\n",
       "      <td>0.084578</td>\n",
       "      <td>0.063965</td>\n",
       "      <td>0.000000</td>\n",
       "      <td>1.716724</td>\n",
       "      <td>0.069330</td>\n",
       "    </tr>\n",
       "    <tr>\n",
       "      <th>2</th>\n",
       "      <td>5</td>\n",
       "      <td>AWOL - A Way Of Life</td>\n",
       "      <td>This World</td>\n",
       "      <td>New Jersey</td>\n",
       "      <td>AWOL</td>\n",
       "      <td>256000</td>\n",
       "      <td>21.0</td>\n",
       "      <td>0.527563</td>\n",
       "      <td>-0.077654</td>\n",
       "      <td>-0.279610</td>\n",
       "      <td>...</td>\n",
       "      <td>0.040730</td>\n",
       "      <td>0.012691</td>\n",
       "      <td>0.014759</td>\n",
       "      <td>6.808415</td>\n",
       "      <td>0.375000</td>\n",
       "      <td>0.053114</td>\n",
       "      <td>0.041504</td>\n",
       "      <td>0.000000</td>\n",
       "      <td>2.193303</td>\n",
       "      <td>0.044861</td>\n",
       "    </tr>\n",
       "    <tr>\n",
       "      <th>3</th>\n",
       "      <td>10</td>\n",
       "      <td>Constant Hitmaker</td>\n",
       "      <td>Freeway</td>\n",
       "      <td>NaN</td>\n",
       "      <td>Kurt Vile</td>\n",
       "      <td>192000</td>\n",
       "      <td>10.0</td>\n",
       "      <td>3.702245</td>\n",
       "      <td>-0.291193</td>\n",
       "      <td>2.196742</td>\n",
       "      <td>...</td>\n",
       "      <td>0.074358</td>\n",
       "      <td>0.017952</td>\n",
       "      <td>0.013921</td>\n",
       "      <td>21.434212</td>\n",
       "      <td>0.452148</td>\n",
       "      <td>0.077515</td>\n",
       "      <td>0.071777</td>\n",
       "      <td>0.000000</td>\n",
       "      <td>3.542325</td>\n",
       "      <td>0.040800</td>\n",
       "    </tr>\n",
       "    <tr>\n",
       "      <th>4</th>\n",
       "      <td>20</td>\n",
       "      <td>Niris</td>\n",
       "      <td>Spiritual Level</td>\n",
       "      <td>Colchester England</td>\n",
       "      <td>Nicky Cook</td>\n",
       "      <td>256000</td>\n",
       "      <td>17.0</td>\n",
       "      <td>-0.193837</td>\n",
       "      <td>-0.198527</td>\n",
       "      <td>0.201546</td>\n",
       "      <td>...</td>\n",
       "      <td>0.095003</td>\n",
       "      <td>0.022492</td>\n",
       "      <td>0.021355</td>\n",
       "      <td>16.669037</td>\n",
       "      <td>0.469727</td>\n",
       "      <td>0.047225</td>\n",
       "      <td>0.040039</td>\n",
       "      <td>0.000977</td>\n",
       "      <td>3.189831</td>\n",
       "      <td>0.030993</td>\n",
       "    </tr>\n",
       "  </tbody>\n",
       "</table>\n",
       "<p>5 rows × 525 columns</p>\n",
       "</div>"
      ],
      "text/plain": [
       "   track_id                 title          title.1            location  \\\n",
       "0         2  AWOL - A Way Of Life             Food          New Jersey   \n",
       "1         3  AWOL - A Way Of Life     Electric Ave          New Jersey   \n",
       "2         5  AWOL - A Way Of Life       This World          New Jersey   \n",
       "3        10     Constant Hitmaker          Freeway                 NaN   \n",
       "4        20                 Niris  Spiritual Level  Colchester England   \n",
       "\n",
       "         name  bit_rate  genre_id  chroma_cens  chroma_cens.1  chroma_cens.2  \\\n",
       "0        AWOL    256000      21.0     7.180653       5.230309       0.249321   \n",
       "1        AWOL    256000      21.0     1.888963       0.760539       0.345297   \n",
       "2        AWOL    256000      21.0     0.527563      -0.077654      -0.279610   \n",
       "3   Kurt Vile    192000      10.0     3.702245      -0.291193       2.196742   \n",
       "4  Nicky Cook    256000      17.0    -0.193837      -0.198527       0.201546   \n",
       "\n",
       "   ...  tonnetz.39  tonnetz.40  tonnetz.41        zcr     zcr.1     zcr.2  \\\n",
       "0  ...    0.054125    0.012226    0.012111   5.758890  0.459473  0.085629   \n",
       "1  ...    0.063831    0.014212    0.017740   2.824694  0.466309  0.084578   \n",
       "2  ...    0.040730    0.012691    0.014759   6.808415  0.375000  0.053114   \n",
       "3  ...    0.074358    0.017952    0.013921  21.434212  0.452148  0.077515   \n",
       "4  ...    0.095003    0.022492    0.021355  16.669037  0.469727  0.047225   \n",
       "\n",
       "      zcr.3     zcr.4     zcr.5     zcr.6  \n",
       "0  0.071289  0.000000  2.089872  0.061448  \n",
       "1  0.063965  0.000000  1.716724  0.069330  \n",
       "2  0.041504  0.000000  2.193303  0.044861  \n",
       "3  0.071777  0.000000  3.542325  0.040800  \n",
       "4  0.040039  0.000977  3.189831  0.030993  \n",
       "\n",
       "[5 rows x 525 columns]"
      ]
     },
     "execution_count": 3,
     "metadata": {},
     "output_type": "execute_result"
    }
   ],
   "source": [
    "all_data.head()"
   ]
  },
  {
   "cell_type": "code",
   "execution_count": 4,
   "metadata": {},
   "outputs": [],
   "source": [
    "# Convert categorical to numeric (Label Encode)\n",
    "def label_encode(col, df):\n",
    "  Label_Encoder = LabelEncoder()\n",
    "  df[col] = df[col].astype(str)\n",
    "  encoded_col = Label_Encoder.fit_transform(df[col])\n",
    "  return encoded_col\n",
    "\n",
    "for col in [\"title\", \"title.1\", \"location\", \"name\"]:\n",
    "  all_data[col] = label_encode(col, all_data)"
   ]
  },
  {
   "cell_type": "markdown",
   "metadata": {},
   "source": [
    "### Mapping Genre IDs to Names"
   ]
  },
  {
   "cell_type": "code",
   "execution_count": 5,
   "metadata": {},
   "outputs": [
    {
     "name": "stdout",
     "output_type": "stream",
     "text": [
      "{21: 'Avant-Garde', 10: 'International', 17: 'Blues', 58: 'Jazz', 32: 'Classical', 4: 'Novelty', 1: 'Comedy', 25: 'Old-Time / Historic', 26: 'Country', 38: 'Pop', 27: 'Disco', 2: 'Rock', 12: 'Easy Listening', 89: 'Soul-RnB', 15: 'Electronic', 36: 'Sound Effects', 3: 'Folk', 66: 'Soundtrack', 41: 'Funk', 65: 'Spoken', 11: 'Hip-Hop', 1235: 'Audio Collage', 49: 'Punk', 250: 'Post-Rock', 138: 'Lo-Fi', 45: 'Field Recordings', 184: 'Metal', 224: 'Noise', 514: 'Psych-Folk', 297: 'Krautrock', 186: 'Jazz: Vocal', 181: 'Experimental', 404: 'Electroacoustic', 182: 'Ambient Electronic', 98: 'Radio Art', 538: 'Loud-Rock', 6: 'Latin America', 400: 'Drone', 240: 'Free-Folk', 107: 'Noise-Rock', 183: 'Psych-Rock', 81: 'Bluegrass', 5: 'Electro-Punk', 456: 'Radio', 64: 'Indie-Rock', 88: 'Industrial', 236: 'No Wave', 19: 'Free-Jazz', 33: 'Experimental Pop', 8: 'French', 97: 'Reggae - Dub', 362: 'Afrobeat', 13: 'Nerdcore', 137: 'Garage', 443: 'Indian', 74: 'New Wave', 314: 'Post-Punk', 130: 'Sludge', 296: 'African', 359: 'Freak-Folk', 693: 'Jazz: Out', 42: 'Progressive', 14: 'Alternative Hip-Hop', 286: 'Death-Metal', 101: 'Middle East', 70: 'Singer-Songwriter', 167: 'Ambient', 16: 'Hardcore', 187: 'Power-Pop', 337: 'Space-Rock', 71: 'Polka', 113: 'Balkan', 9: 'Unclassifiable', 103: 'Europe', 322: 'Americana', 378: 'Spoken Weird', 18: 'Interview', 442: 'Black-Metal', 169: 'Rockabilly', 94: 'Easy Listening: Vocal', 100: 'Brazilian', 90: 'Asia-Far East', 20: 'N. Indian Traditional', 504: 'South Indian Traditional', 177: 'Bollywood', 468: 'Pacific', 495: 'Celtic', 491: 'Be-Bop', 539: 'Big Band/Swing', 741: 'British Folk', 185: 'Techno', 125: 'House', 811: 'Glitch', 361: 'Minimal Electronic', 360: 'Breakcore - Hard', 401: 'Sound Poetry', 659: '20th Century Classical', 170: 'Poetry', 808: 'Talk Radio', 440: 'North African', 428: 'Sound Collage', 86: 'Flamenco', 85: 'IDM', 906: 'Chiptune', 542: 'Musique Concrete', 31: 'Improv', 232: 'New Age', 53: 'Trip-Hop', 247: 'Dance', 47: 'Chip Music', 179: 'Lounge', 810: 'Goth', 619: 'Composed Music', 83: 'Drum & Bass', 580: 'Shoegaze', 102: 'Kid-Friendly', 267: 'Thrash', 695: 'Synth Pop', 441: 'Banter', 439: 'Deep Funk', 1032: 'Spoken Word', 46: 'Chill-out', 172: 'Bigbeat', 7: 'Surf', 602: 'Radio Theater', 444: 'Grindcore'}\n"
     ]
    }
   ],
   "source": [
    "# Map genre_id to names\n",
    "genres = pd.read_csv(\"../Data/genres.csv\")\n",
    "data_vals = all_data[\"genre_id\"].dropna()\n",
    "\n",
    "genre_id = [int(val) for val in data_vals.unique()]\n",
    "\n",
    "genre_top_dict = dict(zip(genre_id, genres[\"title\"]))\n",
    "print(genre_top_dict)"
   ]
  },
  {
   "cell_type": "markdown",
   "metadata": {},
   "source": [
    "### Finding the Major Genres w/ Significant Sample Sizes"
   ]
  },
  {
   "cell_type": "code",
   "execution_count": 6,
   "metadata": {},
   "outputs": [],
   "source": [
    "# Take genres that have atleast 6000 samples\n",
    "genre_count = all_data.groupby('genre_id').agg({'genre_id':'count'})['genre_id']"
   ]
  },
  {
   "cell_type": "code",
   "execution_count": 7,
   "metadata": {},
   "outputs": [
    {
     "data": {
      "text/plain": [
       "<AxesSubplot:>"
      ]
     },
     "execution_count": 7,
     "metadata": {},
     "output_type": "execute_result"
    },
    {
     "data": {
      "image/png": "[encoded data removed]",
      "text/plain": [
       "<Figure size 1080x720 with 1 Axes>"
      ]
     },
     "metadata": {},
     "output_type": "display_data"
    }
   ],
   "source": [
    "df = pd.DataFrame()\n",
    "df['genre_id'] = data_vals\n",
    "df['genre_name'] = [genre_top_dict[id] for id in data_vals]\n",
    "df['genre_name'].value_counts()[:30].plot(figsize=(15,10), kind='bar')"
   ]
  },
  {
   "cell_type": "code",
   "execution_count": 8,
   "metadata": {},
   "outputs": [
    {
     "name": "stdout",
     "output_type": "stream",
     "text": [
      "Major genres: [ 1. 10. 12. 17. 21. 25. 32. 38.] \n",
      "Minor Genres: [   2.    3.    4.    5.    6.    7.    8.    9.   11.   13.   14.   15.\n",
      "   16.   18.   19.   20.   26.   27.   31.   33.   36.   41.   42.   45.\n",
      "   46.   47.   49.   53.   58.   64.   65.   66.   70.   71.   74.   81.\n",
      "   83.   85.   86.   88.   89.   90.   94.   97.   98.  100.  101.  102.\n",
      "  103.  107.  113.  125.  130.  137.  138.  167.  169.  170.  172.  177.\n",
      "  179.  181.  182.  183.  184.  185.  186.  187.  224.  232.  236.  240.\n",
      "  247.  250.  267.  286.  296.  297.  314.  322.  337.  359.  360.  361.\n",
      "  362.  378.  400.  401.  404.  428.  439.  440.  441.  442.  443.  444.\n",
      "  456.  468.  491.  495.  504.  514.  538.  539.  542.  580.  602.  619.\n",
      "  659.  693.  695.  741.  808.  810.  811.  906. 1032. 1235.]\n"
     ]
    }
   ],
   "source": [
    "major_genres = genre_count[genre_count > 6000].index.values\n",
    "minor_genres = genre_count[genre_count <= 6000].index.values\n",
    "# print(genre_count)\n",
    "print(\"Major genres: {} \\nMinor Genres: {}\".format(major_genres, minor_genres))"
   ]
  },
  {
   "cell_type": "code",
   "execution_count": 9,
   "metadata": {},
   "outputs": [
    {
     "data": {
      "text/plain": [
       "['Classical',\n",
       " 'Comedy',\n",
       " 'Pop',\n",
       " 'International',\n",
       " 'Easy Listening',\n",
       " 'Blues',\n",
       " 'Avant-Garde',\n",
       " 'Old-Time / Historic']"
      ]
     },
     "execution_count": 9,
     "metadata": {},
     "output_type": "execute_result"
    }
   ],
   "source": [
    "[genre_top_dict[id] for id in set(major_genres)]"
   ]
  },
  {
   "cell_type": "markdown",
   "metadata": {},
   "source": [
    "### Only Keeping Data from the Major Genres"
   ]
  },
  {
   "cell_type": "code",
   "execution_count": 10,
   "metadata": {},
   "outputs": [
    {
     "data": {
      "text/plain": [
       "(91901, 525)"
      ]
     },
     "execution_count": 10,
     "metadata": {},
     "output_type": "execute_result"
    }
   ],
   "source": [
    "# Collect samples belonging to major_genres\n",
    "all_data_new = all_data.iloc[[all_data['genre_id'][id] in set(major_genres) for id in range(len(all_data))]]\n",
    "all_data_new.shape"
   ]
  },
  {
   "cell_type": "code",
   "execution_count": 11,
   "metadata": {},
   "outputs": [],
   "source": [
    "all_data_new.to_csv(r'..\\Data\\final_preprocessed_data.csv', index=False)"
   ]
  },
  {
   "cell_type": "code",
   "execution_count": null,
   "metadata": {},
   "outputs": [],
   "source": []
  }
 ],
 "metadata": {
  "kernelspec": {
   "display_name": "Python 3",
   "language": "python",
   "name": "python3"
  },
  "language_info": {
   "codemirror_mode": {
    "name": "ipython",
    "version": 3
   },
   "file_extension": ".py",
   "mimetype": "text/x-python",
   "name": "python",
   "nbconvert_exporter": "python",
   "pygments_lexer": "ipython3",
   "version": "3.8.8"
  }
 },
 "nbformat": 4,
 "nbformat_minor": 4
}
